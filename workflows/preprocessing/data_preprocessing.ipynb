{
 "cells": [
  {
   "cell_type": "code",
   "execution_count": 1,
   "id": "28b8712c",
   "metadata": {},
   "outputs": [
    {
     "name": "stdout",
     "output_type": "stream",
     "text": [
      "Data preprocessing script 1\n"
     ]
    }
   ],
   "source": [
    "print(\"Data preprocessing script 1\")"
   ]
  }
 ],
 "metadata": {
  "kernelspec": {
   "display_name": "Python 3 (ipykernel)",
   "language": "python",
   "name": "python3"
  }
 },
 "nbformat": 4,
 "nbformat_minor": 5
}
