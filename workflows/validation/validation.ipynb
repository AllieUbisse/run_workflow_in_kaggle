{
 "cells": [
  {
   "cell_type": "code",
   "execution_count": 2,
   "id": "dab912bd",
   "metadata": {},
   "outputs": [
    {
     "name": "stdout",
     "output_type": "stream",
     "text": [
      "Validation Stage (TPU)\n"
     ]
    }
   ],
   "source": [
    "print(\"Validation Stage (TPU)\")"
   ]
  }
 ],
 "metadata": {
  "kernelspec": {
   "display_name": "Python 3 (ipykernel)",
   "language": "python",
   "name": "python3"
  }
 },
 "nbformat": 4,
 "nbformat_minor": 5
}
