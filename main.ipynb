{
  "nbformat": 4,
  "nbformat_minor": 0,
  "metadata": {
    "colab": {
      "provenance": []
    },
    "kernelspec": {
      "name": "python3",
      "display_name": "Python 3"
    },
    "language_info": {
      "name": "python"
    }
  },
  "cells": [
    {
      "cell_type": "code",
      "execution_count": 1,
      "metadata": {
        "colab": {
          "base_uri": "https://localhost:8080/"
        },
        "id": "NFGpNoTlAgH4",
        "outputId": "31b44150-0dd9-4ef0-91c9-84e402869400"
      },
      "outputs": [
        {
          "output_type": "stream",
          "name": "stdout",
          "text": [
            "Runing on kaggle\n"
          ]
        }
      ],
      "source": [
        "print(\"Runing on kaggle\")"
      ]
    },
    {
      "cell_type": "code",
      "source": [
        "import pandas as pd\n",
        "\n",
        "\n",
        "data = {\n",
        "    \"Master_Index\": [\n",
        "        \"MI001\", \"MI002\", \"MI003\", \"MI004\", \"MI005\",\n",
        "        \"MI006\", \"MI007\", \"MI008\", \"MI009\", \"MI010\"\n",
        "    ],\n",
        "    \"clinician\": [\n",
        "        \"Dr. A Smith\", \"Dr. B Jones\", \"Dr. C Patel\", \"Dr. D Lee\", \"Dr. E Khan\",\n",
        "        \"Dr. F Gomez\", \"Dr. G Liu\", \"Dr. H Brown\", \"Dr. I Nguyen\", \"Dr. J Clarke\"\n",
        "    ]\n",
        "}\n",
        "\n",
        "df = pd.DataFrame(data)\n",
        "print(df)\n",
        "df.to_csv(\"model_bemchmark_predictions.csv\", index=False)\n"
      ],
      "metadata": {
        "colab": {
          "base_uri": "https://localhost:8080/"
        },
        "id": "7n4Q8hAYENDO",
        "outputId": "7955021a-19f1-409a-8c36-fe4473cded90"
      },
      "execution_count": 7,
      "outputs": [
        {
          "output_type": "stream",
          "name": "stdout",
          "text": [
            "  Master_Index     clinician\n",
            "0        MI001   Dr. A Smith\n",
            "1        MI002   Dr. B Jones\n",
            "2        MI003   Dr. C Patel\n",
            "3        MI004     Dr. D Lee\n",
            "4        MI005    Dr. E Khan\n",
            "5        MI006   Dr. F Gomez\n",
            "6        MI007     Dr. G Liu\n",
            "7        MI008   Dr. H Brown\n",
            "8        MI009  Dr. I Nguyen\n",
            "9        MI010  Dr. J Clarke\n"
          ]
        }
      ]
    }
  ]
}